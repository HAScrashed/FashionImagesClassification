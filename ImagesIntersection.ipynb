{
 "cells": [
  {
   "cell_type": "markdown",
   "id": "43753859-757f-43cc-b1a1-c8fae1e7464f",
   "metadata": {},
   "source": [
    "# More cleanup\n",
    "### Since I removed some rows in csv file with the targets, I also need to remove corresponding images from the second file - numpy array  "
   ]
  },
  {
   "cell_type": "code",
   "execution_count": 1,
   "id": "217bc2d9-c55e-4a03-855d-aa511be8d013",
   "metadata": {},
   "outputs": [],
   "source": [
    "import numpy as np"
   ]
  },
  {
   "cell_type": "code",
   "execution_count": 2,
   "id": "b79d009c-4bf4-435a-8105-06d26e473c9a",
   "metadata": {},
   "outputs": [],
   "source": [
    "images = np.load(\"ImagesTxt.npy\")"
   ]
  },
  {
   "cell_type": "code",
   "execution_count": 3,
   "id": "a5e7c8e6-a1de-41da-a285-38306ea43aa1",
   "metadata": {},
   "outputs": [],
   "source": [
    "labels = np.load(\"saved_ids.npy\")1"
   ]
  },
  {
   "cell_type": "code",
   "execution_count": 4,
   "id": "ab1f6b1d-daff-40a4-8359-d3ed8c3f77ee",
   "metadata": {},
   "outputs": [],
   "source": [
    "import pandas as pd"
   ]
  },
  {
   "cell_type": "code",
   "execution_count": 5,
   "id": "0e55e34c-98a5-4783-997c-e77e7feb3ef9",
   "metadata": {},
   "outputs": [],
   "source": [
    "dataImage = pd.DataFrame(images)\n",
    "dataImage[\"id\"] = labels"
   ]
  },
  {
   "cell_type": "code",
   "execution_count": 6,
   "id": "9394fc83-6ac9-44c7-8e50-6290622690c2",
   "metadata": {},
   "outputs": [],
   "source": [
    "cleaned_targets = pd.read_csv(\"cleaned_fashion.csv\", sep=\";\")"
   ]
  },
  {
   "cell_type": "code",
   "execution_count": 7,
   "id": "c4a7b5a7-6596-489c-a256-cbb35734cc56",
   "metadata": {},
   "outputs": [
    {
     "data": {
      "text/html": [
       "<div>\n",
       "<style scoped>\n",
       "    .dataframe tbody tr th:only-of-type {\n",
       "        vertical-align: middle;\n",
       "    }\n",
       "\n",
       "    .dataframe tbody tr th {\n",
       "        vertical-align: top;\n",
       "    }\n",
       "\n",
       "    .dataframe thead th {\n",
       "        text-align: right;\n",
       "    }\n",
       "</style>\n",
       "<table border=\"1\" class=\"dataframe\">\n",
       "  <thead>\n",
       "    <tr style=\"text-align: right;\">\n",
       "      <th></th>\n",
       "      <th>id</th>\n",
       "      <th>target</th>\n",
       "    </tr>\n",
       "  </thead>\n",
       "  <tbody>\n",
       "    <tr>\n",
       "      <th>0</th>\n",
       "      <td>15970</td>\n",
       "      <td>Topwear</td>\n",
       "    </tr>\n",
       "    <tr>\n",
       "      <th>1</th>\n",
       "      <td>39386</td>\n",
       "      <td>Bottomwear</td>\n",
       "    </tr>\n",
       "  </tbody>\n",
       "</table>\n",
       "</div>"
      ],
      "text/plain": [
       "      id      target\n",
       "0  15970     Topwear\n",
       "1  39386  Bottomwear"
      ]
     },
     "execution_count": 7,
     "metadata": {},
     "output_type": "execute_result"
    }
   ],
   "source": [
    "cleaned_targets.head(2)"
   ]
  },
  {
   "cell_type": "code",
   "execution_count": 11,
   "id": "0f3a635c-4105-4616-9191-bbb44ac14cd8",
   "metadata": {},
   "outputs": [],
   "source": [
    "cleaned_targets.set_index(\"id\", inplace=True)\n",
    "dataImage.set_index(\"id\", inplace=True)"
   ]
  },
  {
   "cell_type": "markdown",
   "id": "d6a97943-4a04-40f9-b527-c2e07ae87131",
   "metadata": {
    "jp-MarkdownHeadingCollapsed": true
   },
   "source": [
    "### Here we can see that dataImage has 44418 entries and targets have 41121 entries. I am intersecting targets with images using ids"
   ]
  },
  {
   "cell_type": "code",
   "execution_count": 12,
   "id": "275fde83-7110-492b-a696-0e7569caac5b",
   "metadata": {},
   "outputs": [
    {
     "name": "stdout",
     "output_type": "stream",
     "text": [
      "<class 'pandas.core.frame.DataFrame'>\n",
      "Index: 41121 entries, 15970 to 51623\n",
      "Data columns (total 1 columns):\n",
      " #   Column  Non-Null Count  Dtype \n",
      "---  ------  --------------  ----- \n",
      " 0   target  41121 non-null  object\n",
      "dtypes: object(1)\n",
      "memory usage: 642.5+ KB\n"
     ]
    }
   ],
   "source": [
    "cleaned_targets.info()"
   ]
  },
  {
   "cell_type": "code",
   "execution_count": 13,
   "id": "c098bf7f-e16e-453d-858e-f4302fce8908",
   "metadata": {},
   "outputs": [
    {
     "name": "stdout",
     "output_type": "stream",
     "text": [
      "<class 'pandas.core.frame.DataFrame'>\n",
      "Index: 44418 entries, 15970 to 51623\n",
      "Columns: 4800 entries, 0 to 4799\n",
      "dtypes: float64(4800)\n",
      "memory usage: 1.6 GB\n"
     ]
    }
   ],
   "source": [
    "dataImage.info()"
   ]
  },
  {
   "cell_type": "code",
   "execution_count": 14,
   "id": "3154ba7c-325b-41f9-839d-a7722a843ca5",
   "metadata": {},
   "outputs": [],
   "source": [
    "indexes = cleaned_targets.index.intersection(dataImage.index)"
   ]
  },
  {
   "cell_type": "code",
   "execution_count": 15,
   "id": "5a895b60-4c4c-4e8c-b4e8-642f41a9aa70",
   "metadata": {},
   "outputs": [],
   "source": [
    "dataImage = dataImage.loc[indexes]"
   ]
  },
  {
   "cell_type": "code",
   "execution_count": 16,
   "id": "0423ceca-7106-4f2d-9a79-ef80c36f58ce",
   "metadata": {},
   "outputs": [
    {
     "name": "stdout",
     "output_type": "stream",
     "text": [
      "<class 'pandas.core.frame.DataFrame'>\n",
      "Index: 41121 entries, 15970 to 51623\n",
      "Columns: 4800 entries, 0 to 4799\n",
      "dtypes: float64(4800)\n",
      "memory usage: 1.5 GB\n"
     ]
    }
   ],
   "source": [
    "dataImage.info()"
   ]
  },
  {
   "cell_type": "markdown",
   "id": "9d5327df-9e20-44f2-93b1-6f8bca062adb",
   "metadata": {},
   "source": [
    "### Saving reduced images file to images_final_intersected"
   ]
  },
  {
   "cell_type": "code",
   "execution_count": 54,
   "id": "6aa80ea1-f3d7-4ffe-b982-bb13e1f1277b",
   "metadata": {},
   "outputs": [],
   "source": [
    "np.save(\"images_final_intersected\",dataImage.values)"
   ]
  },
  {
   "cell_type": "code",
   "execution_count": 18,
   "id": "f8b7b568-c187-412e-97dd-da7ec3d51ab9",
   "metadata": {},
   "outputs": [],
   "source": [
    "images_final = np.load(\"images_final_intersected.npy\")"
   ]
  },
  {
   "cell_type": "code",
   "execution_count": 19,
   "id": "1e22e0df-5b76-4eea-b5e4-eb116c7b4b82",
   "metadata": {},
   "outputs": [
    {
     "data": {
      "text/plain": [
       "array([[  1.        ,   1.        ,   1.        , ...,   0.99916667,\n",
       "          0.99860118,   0.99886902],\n",
       "       [  1.        ,   1.        ,   1.        , ...,   1.        ,\n",
       "          1.        ,   1.        ],\n",
       "       [255.        , 255.        , 255.        , ..., 255.        ,\n",
       "        255.        , 255.        ],\n",
       "       ...,\n",
       "       [  1.        ,   1.        ,   1.        , ...,   1.        ,\n",
       "          1.        ,   1.        ],\n",
       "       [  1.        ,   1.        ,   1.        , ...,   1.        ,\n",
       "          1.        ,   1.        ],\n",
       "       [  1.        ,   1.        ,   1.        , ...,   1.        ,\n",
       "          1.        ,   1.        ]])"
      ]
     },
     "execution_count": 19,
     "metadata": {},
     "output_type": "execute_result"
    }
   ],
   "source": [
    "images_final"
   ]
  },
  {
   "cell_type": "code",
   "execution_count": 20,
   "id": "fca7e559-5af1-4019-8c7c-3f4f72310bcb",
   "metadata": {},
   "outputs": [
    {
     "data": {
      "text/html": [
       "<div>\n",
       "<style scoped>\n",
       "    .dataframe tbody tr th:only-of-type {\n",
       "        vertical-align: middle;\n",
       "    }\n",
       "\n",
       "    .dataframe tbody tr th {\n",
       "        vertical-align: top;\n",
       "    }\n",
       "\n",
       "    .dataframe thead th {\n",
       "        text-align: right;\n",
       "    }\n",
       "</style>\n",
       "<table border=\"1\" class=\"dataframe\">\n",
       "  <thead>\n",
       "    <tr style=\"text-align: right;\">\n",
       "      <th></th>\n",
       "      <th>0</th>\n",
       "      <th>1</th>\n",
       "      <th>2</th>\n",
       "      <th>3</th>\n",
       "      <th>4</th>\n",
       "      <th>5</th>\n",
       "      <th>6</th>\n",
       "      <th>7</th>\n",
       "      <th>8</th>\n",
       "      <th>9</th>\n",
       "      <th>...</th>\n",
       "      <th>4790</th>\n",
       "      <th>4791</th>\n",
       "      <th>4792</th>\n",
       "      <th>4793</th>\n",
       "      <th>4794</th>\n",
       "      <th>4795</th>\n",
       "      <th>4796</th>\n",
       "      <th>4797</th>\n",
       "      <th>4798</th>\n",
       "      <th>4799</th>\n",
       "    </tr>\n",
       "    <tr>\n",
       "      <th>id</th>\n",
       "      <th></th>\n",
       "      <th></th>\n",
       "      <th></th>\n",
       "      <th></th>\n",
       "      <th></th>\n",
       "      <th></th>\n",
       "      <th></th>\n",
       "      <th></th>\n",
       "      <th></th>\n",
       "      <th></th>\n",
       "      <th></th>\n",
       "      <th></th>\n",
       "      <th></th>\n",
       "      <th></th>\n",
       "      <th></th>\n",
       "      <th></th>\n",
       "      <th></th>\n",
       "      <th></th>\n",
       "      <th></th>\n",
       "      <th></th>\n",
       "      <th></th>\n",
       "    </tr>\n",
       "  </thead>\n",
       "  <tbody>\n",
       "    <tr>\n",
       "      <th>15970</th>\n",
       "      <td>1.000000</td>\n",
       "      <td>1.000000</td>\n",
       "      <td>1.000000</td>\n",
       "      <td>1.000000</td>\n",
       "      <td>1.000000</td>\n",
       "      <td>1.000000</td>\n",
       "      <td>1.000000</td>\n",
       "      <td>1.000000</td>\n",
       "      <td>1.000000</td>\n",
       "      <td>1.000000</td>\n",
       "      <td>...</td>\n",
       "      <td>0.987930</td>\n",
       "      <td>0.993824</td>\n",
       "      <td>0.997195</td>\n",
       "      <td>0.994389</td>\n",
       "      <td>1.000000</td>\n",
       "      <td>0.995528</td>\n",
       "      <td>0.999167</td>\n",
       "      <td>0.999167</td>\n",
       "      <td>0.998601</td>\n",
       "      <td>0.998869</td>\n",
       "    </tr>\n",
       "    <tr>\n",
       "      <th>39386</th>\n",
       "      <td>1.000000</td>\n",
       "      <td>1.000000</td>\n",
       "      <td>1.000000</td>\n",
       "      <td>1.000000</td>\n",
       "      <td>1.000000</td>\n",
       "      <td>1.000000</td>\n",
       "      <td>1.000000</td>\n",
       "      <td>1.000000</td>\n",
       "      <td>0.966871</td>\n",
       "      <td>0.993333</td>\n",
       "      <td>...</td>\n",
       "      <td>1.000000</td>\n",
       "      <td>1.000000</td>\n",
       "      <td>1.000000</td>\n",
       "      <td>1.000000</td>\n",
       "      <td>1.000000</td>\n",
       "      <td>1.000000</td>\n",
       "      <td>1.000000</td>\n",
       "      <td>1.000000</td>\n",
       "      <td>1.000000</td>\n",
       "      <td>1.000000</td>\n",
       "    </tr>\n",
       "    <tr>\n",
       "      <th>59263</th>\n",
       "      <td>255.000000</td>\n",
       "      <td>255.000000</td>\n",
       "      <td>255.000000</td>\n",
       "      <td>255.000000</td>\n",
       "      <td>255.000000</td>\n",
       "      <td>255.000000</td>\n",
       "      <td>255.000000</td>\n",
       "      <td>255.000000</td>\n",
       "      <td>255.000000</td>\n",
       "      <td>255.000000</td>\n",
       "      <td>...</td>\n",
       "      <td>255.000000</td>\n",
       "      <td>255.000000</td>\n",
       "      <td>255.000000</td>\n",
       "      <td>255.000000</td>\n",
       "      <td>255.000000</td>\n",
       "      <td>255.000000</td>\n",
       "      <td>255.000000</td>\n",
       "      <td>255.000000</td>\n",
       "      <td>255.000000</td>\n",
       "      <td>255.000000</td>\n",
       "    </tr>\n",
       "    <tr>\n",
       "      <th>21379</th>\n",
       "      <td>1.000000</td>\n",
       "      <td>1.000000</td>\n",
       "      <td>1.000000</td>\n",
       "      <td>1.000000</td>\n",
       "      <td>1.000000</td>\n",
       "      <td>1.000000</td>\n",
       "      <td>1.000000</td>\n",
       "      <td>1.000000</td>\n",
       "      <td>0.995781</td>\n",
       "      <td>1.000000</td>\n",
       "      <td>...</td>\n",
       "      <td>1.000000</td>\n",
       "      <td>1.000000</td>\n",
       "      <td>1.000000</td>\n",
       "      <td>1.000000</td>\n",
       "      <td>1.000000</td>\n",
       "      <td>1.000000</td>\n",
       "      <td>1.000000</td>\n",
       "      <td>1.000000</td>\n",
       "      <td>1.000000</td>\n",
       "      <td>1.000000</td>\n",
       "    </tr>\n",
       "    <tr>\n",
       "      <th>53759</th>\n",
       "      <td>1.000000</td>\n",
       "      <td>1.000000</td>\n",
       "      <td>1.000000</td>\n",
       "      <td>1.000000</td>\n",
       "      <td>1.000000</td>\n",
       "      <td>1.000000</td>\n",
       "      <td>1.000000</td>\n",
       "      <td>1.000000</td>\n",
       "      <td>1.000000</td>\n",
       "      <td>1.000000</td>\n",
       "      <td>...</td>\n",
       "      <td>1.000000</td>\n",
       "      <td>1.000000</td>\n",
       "      <td>1.000000</td>\n",
       "      <td>1.000000</td>\n",
       "      <td>1.000000</td>\n",
       "      <td>1.000000</td>\n",
       "      <td>1.000000</td>\n",
       "      <td>1.000000</td>\n",
       "      <td>1.000000</td>\n",
       "      <td>1.000000</td>\n",
       "    </tr>\n",
       "    <tr>\n",
       "      <th>...</th>\n",
       "      <td>...</td>\n",
       "      <td>...</td>\n",
       "      <td>...</td>\n",
       "      <td>...</td>\n",
       "      <td>...</td>\n",
       "      <td>...</td>\n",
       "      <td>...</td>\n",
       "      <td>...</td>\n",
       "      <td>...</td>\n",
       "      <td>...</td>\n",
       "      <td>...</td>\n",
       "      <td>...</td>\n",
       "      <td>...</td>\n",
       "      <td>...</td>\n",
       "      <td>...</td>\n",
       "      <td>...</td>\n",
       "      <td>...</td>\n",
       "      <td>...</td>\n",
       "      <td>...</td>\n",
       "      <td>...</td>\n",
       "      <td>...</td>\n",
       "    </tr>\n",
       "    <tr>\n",
       "      <th>17036</th>\n",
       "      <td>1.000000</td>\n",
       "      <td>1.000000</td>\n",
       "      <td>1.000000</td>\n",
       "      <td>1.000000</td>\n",
       "      <td>1.000000</td>\n",
       "      <td>1.000000</td>\n",
       "      <td>1.000000</td>\n",
       "      <td>1.000000</td>\n",
       "      <td>1.000000</td>\n",
       "      <td>1.000000</td>\n",
       "      <td>...</td>\n",
       "      <td>1.000000</td>\n",
       "      <td>1.000000</td>\n",
       "      <td>1.000000</td>\n",
       "      <td>1.000000</td>\n",
       "      <td>1.000000</td>\n",
       "      <td>1.000000</td>\n",
       "      <td>1.000000</td>\n",
       "      <td>1.000000</td>\n",
       "      <td>1.000000</td>\n",
       "      <td>1.000000</td>\n",
       "    </tr>\n",
       "    <tr>\n",
       "      <th>6461</th>\n",
       "      <td>0.753462</td>\n",
       "      <td>0.753462</td>\n",
       "      <td>0.757384</td>\n",
       "      <td>0.757384</td>\n",
       "      <td>0.757384</td>\n",
       "      <td>0.761305</td>\n",
       "      <td>0.761871</td>\n",
       "      <td>0.765792</td>\n",
       "      <td>0.765227</td>\n",
       "      <td>0.769148</td>\n",
       "      <td>...</td>\n",
       "      <td>0.753462</td>\n",
       "      <td>0.749540</td>\n",
       "      <td>0.745619</td>\n",
       "      <td>0.745619</td>\n",
       "      <td>0.742263</td>\n",
       "      <td>0.742263</td>\n",
       "      <td>0.742263</td>\n",
       "      <td>0.742263</td>\n",
       "      <td>0.742263</td>\n",
       "      <td>0.742263</td>\n",
       "    </tr>\n",
       "    <tr>\n",
       "      <th>18842</th>\n",
       "      <td>1.000000</td>\n",
       "      <td>1.000000</td>\n",
       "      <td>1.000000</td>\n",
       "      <td>1.000000</td>\n",
       "      <td>1.000000</td>\n",
       "      <td>1.000000</td>\n",
       "      <td>1.000000</td>\n",
       "      <td>1.000000</td>\n",
       "      <td>1.000000</td>\n",
       "      <td>1.000000</td>\n",
       "      <td>...</td>\n",
       "      <td>1.000000</td>\n",
       "      <td>1.000000</td>\n",
       "      <td>1.000000</td>\n",
       "      <td>1.000000</td>\n",
       "      <td>1.000000</td>\n",
       "      <td>1.000000</td>\n",
       "      <td>1.000000</td>\n",
       "      <td>1.000000</td>\n",
       "      <td>1.000000</td>\n",
       "      <td>1.000000</td>\n",
       "    </tr>\n",
       "    <tr>\n",
       "      <th>46694</th>\n",
       "      <td>1.000000</td>\n",
       "      <td>1.000000</td>\n",
       "      <td>1.000000</td>\n",
       "      <td>1.000000</td>\n",
       "      <td>1.000000</td>\n",
       "      <td>1.000000</td>\n",
       "      <td>1.000000</td>\n",
       "      <td>1.000000</td>\n",
       "      <td>1.000000</td>\n",
       "      <td>1.000000</td>\n",
       "      <td>...</td>\n",
       "      <td>1.000000</td>\n",
       "      <td>1.000000</td>\n",
       "      <td>1.000000</td>\n",
       "      <td>1.000000</td>\n",
       "      <td>1.000000</td>\n",
       "      <td>1.000000</td>\n",
       "      <td>1.000000</td>\n",
       "      <td>1.000000</td>\n",
       "      <td>1.000000</td>\n",
       "      <td>1.000000</td>\n",
       "    </tr>\n",
       "    <tr>\n",
       "      <th>51623</th>\n",
       "      <td>1.000000</td>\n",
       "      <td>1.000000</td>\n",
       "      <td>1.000000</td>\n",
       "      <td>1.000000</td>\n",
       "      <td>1.000000</td>\n",
       "      <td>1.000000</td>\n",
       "      <td>1.000000</td>\n",
       "      <td>1.000000</td>\n",
       "      <td>1.000000</td>\n",
       "      <td>1.000000</td>\n",
       "      <td>...</td>\n",
       "      <td>1.000000</td>\n",
       "      <td>1.000000</td>\n",
       "      <td>1.000000</td>\n",
       "      <td>1.000000</td>\n",
       "      <td>1.000000</td>\n",
       "      <td>1.000000</td>\n",
       "      <td>1.000000</td>\n",
       "      <td>1.000000</td>\n",
       "      <td>1.000000</td>\n",
       "      <td>1.000000</td>\n",
       "    </tr>\n",
       "  </tbody>\n",
       "</table>\n",
       "<p>41121 rows × 4800 columns</p>\n",
       "</div>"
      ],
      "text/plain": [
       "             0           1           2           3           4           5     \\\n",
       "id                                                                              \n",
       "15970    1.000000    1.000000    1.000000    1.000000    1.000000    1.000000   \n",
       "39386    1.000000    1.000000    1.000000    1.000000    1.000000    1.000000   \n",
       "59263  255.000000  255.000000  255.000000  255.000000  255.000000  255.000000   \n",
       "21379    1.000000    1.000000    1.000000    1.000000    1.000000    1.000000   \n",
       "53759    1.000000    1.000000    1.000000    1.000000    1.000000    1.000000   \n",
       "...           ...         ...         ...         ...         ...         ...   \n",
       "17036    1.000000    1.000000    1.000000    1.000000    1.000000    1.000000   \n",
       "6461     0.753462    0.753462    0.757384    0.757384    0.757384    0.761305   \n",
       "18842    1.000000    1.000000    1.000000    1.000000    1.000000    1.000000   \n",
       "46694    1.000000    1.000000    1.000000    1.000000    1.000000    1.000000   \n",
       "51623    1.000000    1.000000    1.000000    1.000000    1.000000    1.000000   \n",
       "\n",
       "             6           7           8           9     ...        4790  \\\n",
       "id                                                     ...               \n",
       "15970    1.000000    1.000000    1.000000    1.000000  ...    0.987930   \n",
       "39386    1.000000    1.000000    0.966871    0.993333  ...    1.000000   \n",
       "59263  255.000000  255.000000  255.000000  255.000000  ...  255.000000   \n",
       "21379    1.000000    1.000000    0.995781    1.000000  ...    1.000000   \n",
       "53759    1.000000    1.000000    1.000000    1.000000  ...    1.000000   \n",
       "...           ...         ...         ...         ...  ...         ...   \n",
       "17036    1.000000    1.000000    1.000000    1.000000  ...    1.000000   \n",
       "6461     0.761871    0.765792    0.765227    0.769148  ...    0.753462   \n",
       "18842    1.000000    1.000000    1.000000    1.000000  ...    1.000000   \n",
       "46694    1.000000    1.000000    1.000000    1.000000  ...    1.000000   \n",
       "51623    1.000000    1.000000    1.000000    1.000000  ...    1.000000   \n",
       "\n",
       "             4791        4792        4793        4794        4795        4796  \\\n",
       "id                                                                              \n",
       "15970    0.993824    0.997195    0.994389    1.000000    0.995528    0.999167   \n",
       "39386    1.000000    1.000000    1.000000    1.000000    1.000000    1.000000   \n",
       "59263  255.000000  255.000000  255.000000  255.000000  255.000000  255.000000   \n",
       "21379    1.000000    1.000000    1.000000    1.000000    1.000000    1.000000   \n",
       "53759    1.000000    1.000000    1.000000    1.000000    1.000000    1.000000   \n",
       "...           ...         ...         ...         ...         ...         ...   \n",
       "17036    1.000000    1.000000    1.000000    1.000000    1.000000    1.000000   \n",
       "6461     0.749540    0.745619    0.745619    0.742263    0.742263    0.742263   \n",
       "18842    1.000000    1.000000    1.000000    1.000000    1.000000    1.000000   \n",
       "46694    1.000000    1.000000    1.000000    1.000000    1.000000    1.000000   \n",
       "51623    1.000000    1.000000    1.000000    1.000000    1.000000    1.000000   \n",
       "\n",
       "             4797        4798        4799  \n",
       "id                                         \n",
       "15970    0.999167    0.998601    0.998869  \n",
       "39386    1.000000    1.000000    1.000000  \n",
       "59263  255.000000  255.000000  255.000000  \n",
       "21379    1.000000    1.000000    1.000000  \n",
       "53759    1.000000    1.000000    1.000000  \n",
       "...           ...         ...         ...  \n",
       "17036    1.000000    1.000000    1.000000  \n",
       "6461     0.742263    0.742263    0.742263  \n",
       "18842    1.000000    1.000000    1.000000  \n",
       "46694    1.000000    1.000000    1.000000  \n",
       "51623    1.000000    1.000000    1.000000  \n",
       "\n",
       "[41121 rows x 4800 columns]"
      ]
     },
     "execution_count": 20,
     "metadata": {},
     "output_type": "execute_result"
    }
   ],
   "source": [
    "dataImage"
   ]
  },
  {
   "cell_type": "code",
   "execution_count": 21,
   "id": "149e104d-2f76-4a20-a0f4-4ae2bd446674",
   "metadata": {},
   "outputs": [],
   "source": [
    "np.save(\"images_final_intersected_ids\", dataImage.index)"
   ]
  },
  {
   "cell_type": "code",
   "execution_count": 23,
   "id": "4b01e2fd-53b6-4f9e-af08-84aee4b3c70a",
   "metadata": {},
   "outputs": [
    {
     "data": {
      "text/plain": [
       "array([15970, 39386, 59263, ..., 18842, 46694, 51623])"
      ]
     },
     "execution_count": 23,
     "metadata": {},
     "output_type": "execute_result"
    }
   ],
   "source": [
    "indexes = np.load(\"images_final_intersected_ids.npy\")\n",
    "indexes"
   ]
  }
 ],
 "metadata": {
  "kernelspec": {
   "display_name": "Python 3 (ipykernel)",
   "language": "python",
   "name": "python3"
  },
  "language_info": {
   "codemirror_mode": {
    "name": "ipython",
    "version": 3
   },
   "file_extension": ".py",
   "mimetype": "text/x-python",
   "name": "python",
   "nbconvert_exporter": "python",
   "pygments_lexer": "ipython3",
   "version": "3.11.7"
  }
 },
 "nbformat": 4,
 "nbformat_minor": 5
}
