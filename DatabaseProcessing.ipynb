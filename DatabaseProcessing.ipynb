{
 "cells": [
  {
   "cell_type": "markdown",
   "id": "f8d73ba4-8f30-47bc-a97b-7cafa56a0bd7",
   "metadata": {},
   "source": [
    "# Database, data preparation\n",
    "\n",
    "This file contains data clean-up and preparation for the model training"
   ]
  },
  {
   "cell_type": "code",
   "execution_count": 1,
   "id": "a8a1ce63-1e41-4238-aa1b-d028e4cb7589",
   "metadata": {},
   "outputs": [],
   "source": [
    "from skimage import io\n",
    "import numpy as np\n",
    "import pandas as pd"
   ]
  },
  {
   "cell_type": "code",
   "execution_count": 2,
   "id": "57816ffc-0388-4be3-a623-3848fe014297",
   "metadata": {},
   "outputs": [],
   "source": [
    "img = io.imread('fashion/images/1163.jpg', as_gray=True)"
   ]
  },
  {
   "cell_type": "markdown",
   "id": "debc5b9b-0f24-41ff-895a-bfbfc4f9d752",
   "metadata": {
    "jp-MarkdownHeadingCollapsed": true
   },
   "source": [
    "## Single image has standard shape of 80 x 60. However there are some exceptions..."
   ]
  },
  {
   "cell_type": "code",
   "execution_count": 4,
   "id": "274011b6-8f7e-4e95-9416-e3a88f0c2aaa",
   "metadata": {},
   "outputs": [
    {
     "data": {
      "text/plain": [
       "(80, 60)"
      ]
     },
     "execution_count": 4,
     "metadata": {},
     "output_type": "execute_result"
    }
   ],
   "source": [
    "img.shape"
   ]
  },
  {
   "cell_type": "code",
   "execution_count": 5,
   "id": "ab524a0f-9f26-4a8a-95cf-2b41a9ba0838",
   "metadata": {},
   "outputs": [],
   "source": [
    "clothes_csv = pd.read_csv(\"fashion\\\\fashion.csv\", sep=\";\")"
   ]
  },
  {
   "cell_type": "code",
   "execution_count": 6,
   "id": "7ba455d1-18be-4a62-84e0-6a9c37a49cc8",
   "metadata": {},
   "outputs": [],
   "source": [
    "clothes_csv = clothes_csv.set_index(\"id\")"
   ]
  },
  {
   "cell_type": "code",
   "execution_count": 7,
   "id": "e320d615-353a-459f-a1a3-96a04533185d",
   "metadata": {},
   "outputs": [],
   "source": [
    "import os\n",
    "file_names = os.listdir(os.getcwd() + '/fashion/images/')"
   ]
  },
  {
   "cell_type": "markdown",
   "id": "0c26070b-6ac9-4393-a7a9-a3cffeb11c76",
   "metadata": {},
   "source": [
    "## Removing records that don't have images"
   ]
  },
  {
   "cell_type": "code",
   "execution_count": 8,
   "id": "b0b930ea-b3ff-49e3-955b-ee53672a2375",
   "metadata": {},
   "outputs": [
    {
     "name": "stdout",
     "output_type": "stream",
     "text": [
      "not found:  39403\n",
      "not found:  39410\n",
      "not found:  39401\n",
      "not found:  39425\n",
      "not found:  12347\n"
     ]
    }
   ],
   "source": [
    "toRemove = []\n",
    "for id, row in clothes_csv.iterrows():\n",
    "    if file_names.count(str(id)+\".jpg\") == 0:\n",
    "        print('not found: ', id)\n",
    "        toRemove.append(id)"
   ]
  },
  {
   "cell_type": "code",
   "execution_count": 9,
   "id": "c43e0269-b354-4547-ab75-a095ab6f5623",
   "metadata": {},
   "outputs": [],
   "source": [
    "for remove in toRemove:\n",
    "    clothes_csv = clothes_csv.drop(index=remove, axis=0)"
   ]
  },
  {
   "cell_type": "code",
   "execution_count": 10,
   "id": "e2798bb5-b76e-4ea7-9fdf-309fb44336d3",
   "metadata": {},
   "outputs": [
    {
     "data": {
      "text/html": [
       "<div>\n",
       "<style scoped>\n",
       "    .dataframe tbody tr th:only-of-type {\n",
       "        vertical-align: middle;\n",
       "    }\n",
       "\n",
       "    .dataframe tbody tr th {\n",
       "        vertical-align: top;\n",
       "    }\n",
       "\n",
       "    .dataframe thead th {\n",
       "        text-align: right;\n",
       "    }\n",
       "</style>\n",
       "<table border=\"1\" class=\"dataframe\">\n",
       "  <thead>\n",
       "    <tr style=\"text-align: right;\">\n",
       "      <th></th>\n",
       "      <th>gender</th>\n",
       "      <th>masterCategory</th>\n",
       "      <th>subCategory</th>\n",
       "      <th>articleType</th>\n",
       "      <th>baseColour</th>\n",
       "      <th>season</th>\n",
       "      <th>year</th>\n",
       "      <th>usage</th>\n",
       "      <th>productDisplayName</th>\n",
       "    </tr>\n",
       "    <tr>\n",
       "      <th>id</th>\n",
       "      <th></th>\n",
       "      <th></th>\n",
       "      <th></th>\n",
       "      <th></th>\n",
       "      <th></th>\n",
       "      <th></th>\n",
       "      <th></th>\n",
       "      <th></th>\n",
       "      <th></th>\n",
       "    </tr>\n",
       "  </thead>\n",
       "  <tbody>\n",
       "    <tr>\n",
       "      <th>15970</th>\n",
       "      <td>Men</td>\n",
       "      <td>Apparel</td>\n",
       "      <td>Topwear</td>\n",
       "      <td>Shirts</td>\n",
       "      <td>Navy Blue</td>\n",
       "      <td>Fall</td>\n",
       "      <td>2011.0</td>\n",
       "      <td>Casual</td>\n",
       "      <td>Turtle Check Men Navy Blue Shirt</td>\n",
       "    </tr>\n",
       "    <tr>\n",
       "      <th>39386</th>\n",
       "      <td>Men</td>\n",
       "      <td>Apparel</td>\n",
       "      <td>Bottomwear</td>\n",
       "      <td>Jeans</td>\n",
       "      <td>Blue</td>\n",
       "      <td>Summer</td>\n",
       "      <td>2012.0</td>\n",
       "      <td>Casual</td>\n",
       "      <td>Peter England Men Party Blue Jeans</td>\n",
       "    </tr>\n",
       "    <tr>\n",
       "      <th>59263</th>\n",
       "      <td>Women</td>\n",
       "      <td>Accessories</td>\n",
       "      <td>Watches</td>\n",
       "      <td>Watches</td>\n",
       "      <td>Silver</td>\n",
       "      <td>Winter</td>\n",
       "      <td>2016.0</td>\n",
       "      <td>Casual</td>\n",
       "      <td>Titan Women Silver Watch</td>\n",
       "    </tr>\n",
       "    <tr>\n",
       "      <th>21379</th>\n",
       "      <td>Men</td>\n",
       "      <td>Apparel</td>\n",
       "      <td>Bottomwear</td>\n",
       "      <td>Track Pants</td>\n",
       "      <td>Black</td>\n",
       "      <td>Fall</td>\n",
       "      <td>2011.0</td>\n",
       "      <td>Casual</td>\n",
       "      <td>Manchester United Men Solid Black Track Pants</td>\n",
       "    </tr>\n",
       "    <tr>\n",
       "      <th>53759</th>\n",
       "      <td>Men</td>\n",
       "      <td>Apparel</td>\n",
       "      <td>Topwear</td>\n",
       "      <td>Tshirts</td>\n",
       "      <td>Grey</td>\n",
       "      <td>Summer</td>\n",
       "      <td>2012.0</td>\n",
       "      <td>Casual</td>\n",
       "      <td>Puma Men Grey T-shirt</td>\n",
       "    </tr>\n",
       "  </tbody>\n",
       "</table>\n",
       "</div>"
      ],
      "text/plain": [
       "      gender masterCategory subCategory  articleType baseColour  season  \\\n",
       "id                                                                        \n",
       "15970    Men        Apparel     Topwear       Shirts  Navy Blue    Fall   \n",
       "39386    Men        Apparel  Bottomwear        Jeans       Blue  Summer   \n",
       "59263  Women    Accessories     Watches      Watches     Silver  Winter   \n",
       "21379    Men        Apparel  Bottomwear  Track Pants      Black    Fall   \n",
       "53759    Men        Apparel     Topwear      Tshirts       Grey  Summer   \n",
       "\n",
       "         year   usage                             productDisplayName  \n",
       "id                                                                    \n",
       "15970  2011.0  Casual               Turtle Check Men Navy Blue Shirt  \n",
       "39386  2012.0  Casual             Peter England Men Party Blue Jeans  \n",
       "59263  2016.0  Casual                       Titan Women Silver Watch  \n",
       "21379  2011.0  Casual  Manchester United Men Solid Black Track Pants  \n",
       "53759  2012.0  Casual                          Puma Men Grey T-shirt  "
      ]
     },
     "execution_count": 10,
     "metadata": {},
     "output_type": "execute_result"
    }
   ],
   "source": [
    "clothes_csv.head(5)"
   ]
  },
  {
   "cell_type": "markdown",
   "id": "c9288699-9fbb-4a36-827e-fa1b17eb3fa3",
   "metadata": {},
   "source": [
    "## Removing records where images have dimensions different than 80 x 60     \n",
    "I could either remove or rescale images - I chose to remove them\n",
    "### Flatenning images to one dimensional arrays"
   ]
  },
  {
   "cell_type": "code",
   "execution_count": 11,
   "id": "c20510f3-6b89-4ccd-aa22-c53051869829",
   "metadata": {},
   "outputs": [
    {
     "name": "stdout",
     "output_type": "stream",
     "text": [
      "bad shape:  56624\n",
      "bad shape:  28092\n",
      "bad shape:  1801\n",
      "bad shape:  28492\n",
      "bad shape:  35915\n",
      "bad shape:  59606\n",
      "bad shape:  1800\n",
      "bad shape:  14776\n",
      "bad shape:  11160\n",
      "bad shape:  50908\n",
      "bad shape:  11151\n",
      "bad shape:  57730\n",
      "bad shape:  25943\n",
      "bad shape:  5408\n",
      "bad shape:  29519\n",
      "bad shape:  52166\n",
      "bad shape:  25299\n",
      "bad shape:  56128\n",
      "bad shape:  1799\n",
      "bad shape:  59593\n",
      "bad shape:  2311\n",
      "bad shape:  25958\n",
      "bad shape:  44101\n"
     ]
    }
   ],
   "source": [
    "allImages = []\n",
    "toRemove.clear()\n",
    "for id, row in clothes_csv.iterrows():\n",
    "    img = io.imread(f'fashion/images/{id}.jpg', as_gray=True) \n",
    "    if img.shape != (80, 60):\n",
    "        print(\"bad shape: \", id)\n",
    "        toRemove.append(id)\n",
    "    else: \n",
    "        allImages.append((id, np.array(img).flatten())) #(id, img)\n",
    "        \n",
    "for remove in toRemove:\n",
    "    clothes_csv = clothes_csv.drop(index=remove, axis=0)"
   ]
  },
  {
   "cell_type": "code",
   "execution_count": 31,
   "id": "4a6b1267-7b13-4ef3-9a07-43148d0d56a3",
   "metadata": {},
   "outputs": [],
   "source": [
    "length = len(allImages)\n",
    "imagesNumpyArray = np.array([allImages[i][1] for i in range(length)])"
   ]
  },
  {
   "cell_type": "markdown",
   "id": "605a32f5-4d3e-4a37-b647-c5c2921ea72f",
   "metadata": {
    "jp-MarkdownHeadingCollapsed": true
   },
   "source": [
    "## Saving transformed images to numpy file.   \n",
    "### Numpy's file size is smaller than csv."
   ]
  },
  {
   "cell_type": "code",
   "execution_count": 33,
   "id": "809b1ad8-78a7-460c-acff-99ac0c9beca3",
   "metadata": {},
   "outputs": [],
   "source": [
    "np.save(\"ImagesTxt\", imagesNumpyArray)"
   ]
  },
  {
   "cell_type": "code",
   "execution_count": 36,
   "id": "82008490-d689-4c0f-93d2-917a2e8d7a53",
   "metadata": {},
   "outputs": [],
   "source": [
    "clothes_csv.to_csv(path_or_buf=\"clothes_processed.csv\", sep=';')"
   ]
  },
  {
   "cell_type": "code",
   "execution_count": 42,
   "id": "54ed25c8-3e56-443b-a3c7-7f060b33f65e",
   "metadata": {},
   "outputs": [],
   "source": [
    "imagesLabels = np.array([id for id, row in clothes_csv.iterrows()])"
   ]
  },
  {
   "cell_type": "code",
   "execution_count": 44,
   "id": "6ae7cbb2-205e-4710-a769-d958af572e6d",
   "metadata": {},
   "outputs": [],
   "source": [
    "np.save(\"saved_ids\", imagesLabels)"
   ]
  },
  {
   "cell_type": "code",
   "execution_count": 51,
   "id": "7c619fee-e129-4547-befe-070e0d52b2e1",
   "metadata": {},
   "outputs": [],
   "source": [
    "del(clothes_csv)"
   ]
  },
  {
   "cell_type": "code",
   "execution_count": 52,
   "id": "3cefdc6c-a951-42ff-b7d2-bf4cc1ce9d3f",
   "metadata": {},
   "outputs": [],
   "source": [
    "clothes_csv = pd.read_csv(\"clothes_processed.csv\", sep=';')"
   ]
  },
  {
   "cell_type": "markdown",
   "id": "f30e7869-70fb-4072-af10-620443802d4d",
   "metadata": {},
   "source": [
    "## Creating target column based on masterCategory and subCategory     \n",
    "I decided my target column will consist of masterCategory values, however for 'Apparel' I wanted to be more specific and chose subcategories Topweaer and Bottomwear as targets.    \n",
    "So the model could still be useful while keeping relatively more distinguishable classes."
   ]
  },
  {
   "cell_type": "code",
   "execution_count": 53,
   "id": "1bf2f064-3fbd-4f2a-9e9d-19b37ff78fb5",
   "metadata": {},
   "outputs": [],
   "source": [
    "clothes_csv['target'] = np.where(clothes_csv['masterCategory'] != 'Apparel', clothes_csv['masterCategory'], clothes_csv['subCategory'])"
   ]
  },
  {
   "cell_type": "code",
   "execution_count": 64,
   "id": "57e64eec-05ed-4e08-92e8-d38d4ca5efd0",
   "metadata": {},
   "outputs": [
    {
     "data": {
      "text/html": [
       "<div>\n",
       "<style scoped>\n",
       "    .dataframe tbody tr th:only-of-type {\n",
       "        vertical-align: middle;\n",
       "    }\n",
       "\n",
       "    .dataframe tbody tr th {\n",
       "        vertical-align: top;\n",
       "    }\n",
       "\n",
       "    .dataframe thead th {\n",
       "        text-align: right;\n",
       "    }\n",
       "</style>\n",
       "<table border=\"1\" class=\"dataframe\">\n",
       "  <thead>\n",
       "    <tr style=\"text-align: right;\">\n",
       "      <th></th>\n",
       "      <th>id</th>\n",
       "      <th>gender</th>\n",
       "      <th>masterCategory</th>\n",
       "      <th>subCategory</th>\n",
       "      <th>articleType</th>\n",
       "      <th>baseColour</th>\n",
       "      <th>season</th>\n",
       "      <th>year</th>\n",
       "      <th>usage</th>\n",
       "      <th>productDisplayName</th>\n",
       "      <th>target</th>\n",
       "    </tr>\n",
       "  </thead>\n",
       "  <tbody>\n",
       "    <tr>\n",
       "      <th>0</th>\n",
       "      <td>15970</td>\n",
       "      <td>Men</td>\n",
       "      <td>Apparel</td>\n",
       "      <td>Topwear</td>\n",
       "      <td>Shirts</td>\n",
       "      <td>Navy Blue</td>\n",
       "      <td>Fall</td>\n",
       "      <td>2011.0</td>\n",
       "      <td>Casual</td>\n",
       "      <td>Turtle Check Men Navy Blue Shirt</td>\n",
       "      <td>Topwear</td>\n",
       "    </tr>\n",
       "    <tr>\n",
       "      <th>1</th>\n",
       "      <td>39386</td>\n",
       "      <td>Men</td>\n",
       "      <td>Apparel</td>\n",
       "      <td>Bottomwear</td>\n",
       "      <td>Jeans</td>\n",
       "      <td>Blue</td>\n",
       "      <td>Summer</td>\n",
       "      <td>2012.0</td>\n",
       "      <td>Casual</td>\n",
       "      <td>Peter England Men Party Blue Jeans</td>\n",
       "      <td>Bottomwear</td>\n",
       "    </tr>\n",
       "    <tr>\n",
       "      <th>2</th>\n",
       "      <td>59263</td>\n",
       "      <td>Women</td>\n",
       "      <td>Accessories</td>\n",
       "      <td>Watches</td>\n",
       "      <td>Watches</td>\n",
       "      <td>Silver</td>\n",
       "      <td>Winter</td>\n",
       "      <td>2016.0</td>\n",
       "      <td>Casual</td>\n",
       "      <td>Titan Women Silver Watch</td>\n",
       "      <td>Accessories</td>\n",
       "    </tr>\n",
       "    <tr>\n",
       "      <th>3</th>\n",
       "      <td>21379</td>\n",
       "      <td>Men</td>\n",
       "      <td>Apparel</td>\n",
       "      <td>Bottomwear</td>\n",
       "      <td>Track Pants</td>\n",
       "      <td>Black</td>\n",
       "      <td>Fall</td>\n",
       "      <td>2011.0</td>\n",
       "      <td>Casual</td>\n",
       "      <td>Manchester United Men Solid Black Track Pants</td>\n",
       "      <td>Bottomwear</td>\n",
       "    </tr>\n",
       "    <tr>\n",
       "      <th>4</th>\n",
       "      <td>53759</td>\n",
       "      <td>Men</td>\n",
       "      <td>Apparel</td>\n",
       "      <td>Topwear</td>\n",
       "      <td>Tshirts</td>\n",
       "      <td>Grey</td>\n",
       "      <td>Summer</td>\n",
       "      <td>2012.0</td>\n",
       "      <td>Casual</td>\n",
       "      <td>Puma Men Grey T-shirt</td>\n",
       "      <td>Topwear</td>\n",
       "    </tr>\n",
       "    <tr>\n",
       "      <th>...</th>\n",
       "      <td>...</td>\n",
       "      <td>...</td>\n",
       "      <td>...</td>\n",
       "      <td>...</td>\n",
       "      <td>...</td>\n",
       "      <td>...</td>\n",
       "      <td>...</td>\n",
       "      <td>...</td>\n",
       "      <td>...</td>\n",
       "      <td>...</td>\n",
       "      <td>...</td>\n",
       "    </tr>\n",
       "    <tr>\n",
       "      <th>44413</th>\n",
       "      <td>17036</td>\n",
       "      <td>Men</td>\n",
       "      <td>Footwear</td>\n",
       "      <td>Shoes</td>\n",
       "      <td>Casual Shoes</td>\n",
       "      <td>White</td>\n",
       "      <td>Summer</td>\n",
       "      <td>2013.0</td>\n",
       "      <td>Casual</td>\n",
       "      <td>Gas Men Caddy Casual Shoe</td>\n",
       "      <td>Footwear</td>\n",
       "    </tr>\n",
       "    <tr>\n",
       "      <th>44414</th>\n",
       "      <td>6461</td>\n",
       "      <td>Men</td>\n",
       "      <td>Footwear</td>\n",
       "      <td>Flip Flops</td>\n",
       "      <td>Flip Flops</td>\n",
       "      <td>Red</td>\n",
       "      <td>Summer</td>\n",
       "      <td>2011.0</td>\n",
       "      <td>Casual</td>\n",
       "      <td>Lotto Men's Soccer Track Flip Flop</td>\n",
       "      <td>Footwear</td>\n",
       "    </tr>\n",
       "    <tr>\n",
       "      <th>44415</th>\n",
       "      <td>18842</td>\n",
       "      <td>Men</td>\n",
       "      <td>Apparel</td>\n",
       "      <td>Topwear</td>\n",
       "      <td>Tshirts</td>\n",
       "      <td>Blue</td>\n",
       "      <td>Fall</td>\n",
       "      <td>2011.0</td>\n",
       "      <td>Casual</td>\n",
       "      <td>Puma Men Graphic Stellar Blue Tshirt</td>\n",
       "      <td>Topwear</td>\n",
       "    </tr>\n",
       "    <tr>\n",
       "      <th>44416</th>\n",
       "      <td>46694</td>\n",
       "      <td>Women</td>\n",
       "      <td>Personal Care</td>\n",
       "      <td>Fragrance</td>\n",
       "      <td>Perfume and Body Mist</td>\n",
       "      <td>Blue</td>\n",
       "      <td>Spring</td>\n",
       "      <td>2017.0</td>\n",
       "      <td>Casual</td>\n",
       "      <td>Rasasi Women Blue Lady Perfume</td>\n",
       "      <td>Personal Care</td>\n",
       "    </tr>\n",
       "    <tr>\n",
       "      <th>44417</th>\n",
       "      <td>51623</td>\n",
       "      <td>Women</td>\n",
       "      <td>Accessories</td>\n",
       "      <td>Watches</td>\n",
       "      <td>Watches</td>\n",
       "      <td>Pink</td>\n",
       "      <td>Winter</td>\n",
       "      <td>2016.0</td>\n",
       "      <td>Casual</td>\n",
       "      <td>Fossil Women Pink Dial Chronograph Watch ES3050</td>\n",
       "      <td>Accessories</td>\n",
       "    </tr>\n",
       "  </tbody>\n",
       "</table>\n",
       "<p>44418 rows × 11 columns</p>\n",
       "</div>"
      ],
      "text/plain": [
       "          id gender masterCategory subCategory            articleType  \\\n",
       "0      15970    Men        Apparel     Topwear                 Shirts   \n",
       "1      39386    Men        Apparel  Bottomwear                  Jeans   \n",
       "2      59263  Women    Accessories     Watches                Watches   \n",
       "3      21379    Men        Apparel  Bottomwear            Track Pants   \n",
       "4      53759    Men        Apparel     Topwear                Tshirts   \n",
       "...      ...    ...            ...         ...                    ...   \n",
       "44413  17036    Men       Footwear       Shoes           Casual Shoes   \n",
       "44414   6461    Men       Footwear  Flip Flops             Flip Flops   \n",
       "44415  18842    Men        Apparel     Topwear                Tshirts   \n",
       "44416  46694  Women  Personal Care   Fragrance  Perfume and Body Mist   \n",
       "44417  51623  Women    Accessories     Watches                Watches   \n",
       "\n",
       "      baseColour  season    year   usage  \\\n",
       "0      Navy Blue    Fall  2011.0  Casual   \n",
       "1           Blue  Summer  2012.0  Casual   \n",
       "2         Silver  Winter  2016.0  Casual   \n",
       "3          Black    Fall  2011.0  Casual   \n",
       "4           Grey  Summer  2012.0  Casual   \n",
       "...          ...     ...     ...     ...   \n",
       "44413      White  Summer  2013.0  Casual   \n",
       "44414        Red  Summer  2011.0  Casual   \n",
       "44415       Blue    Fall  2011.0  Casual   \n",
       "44416       Blue  Spring  2017.0  Casual   \n",
       "44417       Pink  Winter  2016.0  Casual   \n",
       "\n",
       "                                    productDisplayName         target  \n",
       "0                     Turtle Check Men Navy Blue Shirt        Topwear  \n",
       "1                   Peter England Men Party Blue Jeans     Bottomwear  \n",
       "2                             Titan Women Silver Watch    Accessories  \n",
       "3        Manchester United Men Solid Black Track Pants     Bottomwear  \n",
       "4                                Puma Men Grey T-shirt        Topwear  \n",
       "...                                                ...            ...  \n",
       "44413                        Gas Men Caddy Casual Shoe       Footwear  \n",
       "44414               Lotto Men's Soccer Track Flip Flop       Footwear  \n",
       "44415             Puma Men Graphic Stellar Blue Tshirt        Topwear  \n",
       "44416                   Rasasi Women Blue Lady Perfume  Personal Care  \n",
       "44417  Fossil Women Pink Dial Chronograph Watch ES3050    Accessories  \n",
       "\n",
       "[44418 rows x 11 columns]"
      ]
     },
     "execution_count": 64,
     "metadata": {},
     "output_type": "execute_result"
    }
   ],
   "source": [
    "clothes_csv"
   ]
  },
  {
   "cell_type": "markdown",
   "id": "d0531351-0dda-484c-a8f3-206a5e32fbb5",
   "metadata": {
    "jp-MarkdownHeadingCollapsed": true
   },
   "source": [
    "## Deleting records where masterCategory is Apparel and subcategory is neither Topwear nor Bottomwear"
   ]
  },
  {
   "cell_type": "code",
   "execution_count": 69,
   "id": "d7c539e5-4e4a-45f9-a4af-3b70dd2f10c2",
   "metadata": {},
   "outputs": [
    {
     "data": {
      "text/plain": [
       "Index([51832, 17871, 32138, 59607, 17885, 39716, 25349, 55802, 28032, 39140,\n",
       "       ...\n",
       "       25590, 28881,  2697, 37267, 45647, 57382, 56250, 27491, 15761, 32143],\n",
       "      dtype='int64', name='id', length=3297)"
      ]
     },
     "execution_count": 69,
     "metadata": {},
     "output_type": "execute_result"
    }
   ],
   "source": [
    "clothes_csv = clothes_csv.set_index(\"id\")\n",
    "indexDel = clothes_csv[(clothes_csv['masterCategory'] == 'Apparel') & (clothes_csv['target'] != 'Topwear') & (clothes_csv['target'] != 'Bottomwear')].index\n",
    "indexDel"
   ]
  },
  {
   "cell_type": "code",
   "execution_count": 70,
   "id": "668fa433-f1d1-4efb-a1a6-a488b2ae1ed6",
   "metadata": {},
   "outputs": [],
   "source": [
    "clothes_csv.drop(indexDel , inplace=True)"
   ]
  },
  {
   "cell_type": "markdown",
   "id": "d689c157-7b84-43d8-9712-0d3f1d6b8130",
   "metadata": {},
   "source": [
    "## Deleting irrelevant columns\n",
    "I have already extracted targets I needed for target, rest of the columns won't be used"
   ]
  },
  {
   "cell_type": "code",
   "execution_count": 75,
   "id": "580e1f36-1920-4322-8235-82cc0165428b",
   "metadata": {},
   "outputs": [
    {
     "name": "stdout",
     "output_type": "stream",
     "text": [
      "<class 'pandas.core.frame.DataFrame'>\n",
      "Index: 41121 entries, 15970 to 51623\n",
      "Data columns (total 1 columns):\n",
      " #   Column  Non-Null Count  Dtype \n",
      "---  ------  --------------  ----- \n",
      " 0   target  41121 non-null  object\n",
      "dtypes: object(1)\n",
      "memory usage: 642.5+ KB\n"
     ]
    }
   ],
   "source": [
    "clothes_csv.drop(labels=['masterCategory','gender','subCategory', 'articleType','baseColour', 'season', 'year', 'usage', 'productDisplayName'], axis=1, inplace=True)"
   ]
  },
  {
   "cell_type": "code",
   "execution_count": 77,
   "id": "fca6094b-97f7-45e6-8797-f2e2e1598c1a",
   "metadata": {},
   "outputs": [
    {
     "data": {
      "text/html": [
       "<div>\n",
       "<style scoped>\n",
       "    .dataframe tbody tr th:only-of-type {\n",
       "        vertical-align: middle;\n",
       "    }\n",
       "\n",
       "    .dataframe tbody tr th {\n",
       "        vertical-align: top;\n",
       "    }\n",
       "\n",
       "    .dataframe thead th {\n",
       "        text-align: right;\n",
       "    }\n",
       "</style>\n",
       "<table border=\"1\" class=\"dataframe\">\n",
       "  <thead>\n",
       "    <tr style=\"text-align: right;\">\n",
       "      <th></th>\n",
       "      <th>target</th>\n",
       "    </tr>\n",
       "    <tr>\n",
       "      <th>id</th>\n",
       "      <th></th>\n",
       "    </tr>\n",
       "  </thead>\n",
       "  <tbody>\n",
       "    <tr>\n",
       "      <th>15970</th>\n",
       "      <td>Topwear</td>\n",
       "    </tr>\n",
       "    <tr>\n",
       "      <th>39386</th>\n",
       "      <td>Bottomwear</td>\n",
       "    </tr>\n",
       "    <tr>\n",
       "      <th>59263</th>\n",
       "      <td>Accessories</td>\n",
       "    </tr>\n",
       "    <tr>\n",
       "      <th>21379</th>\n",
       "      <td>Bottomwear</td>\n",
       "    </tr>\n",
       "    <tr>\n",
       "      <th>53759</th>\n",
       "      <td>Topwear</td>\n",
       "    </tr>\n",
       "    <tr>\n",
       "      <th>...</th>\n",
       "      <td>...</td>\n",
       "    </tr>\n",
       "    <tr>\n",
       "      <th>17036</th>\n",
       "      <td>Footwear</td>\n",
       "    </tr>\n",
       "    <tr>\n",
       "      <th>6461</th>\n",
       "      <td>Footwear</td>\n",
       "    </tr>\n",
       "    <tr>\n",
       "      <th>18842</th>\n",
       "      <td>Topwear</td>\n",
       "    </tr>\n",
       "    <tr>\n",
       "      <th>46694</th>\n",
       "      <td>Personal Care</td>\n",
       "    </tr>\n",
       "    <tr>\n",
       "      <th>51623</th>\n",
       "      <td>Accessories</td>\n",
       "    </tr>\n",
       "  </tbody>\n",
       "</table>\n",
       "<p>41121 rows × 1 columns</p>\n",
       "</div>"
      ],
      "text/plain": [
       "              target\n",
       "id                  \n",
       "15970        Topwear\n",
       "39386     Bottomwear\n",
       "59263    Accessories\n",
       "21379     Bottomwear\n",
       "53759        Topwear\n",
       "...              ...\n",
       "17036       Footwear\n",
       "6461        Footwear\n",
       "18842        Topwear\n",
       "46694  Personal Care\n",
       "51623    Accessories\n",
       "\n",
       "[41121 rows x 1 columns]"
      ]
     },
     "execution_count": 77,
     "metadata": {},
     "output_type": "execute_result"
    }
   ],
   "source": [
    "clothes_csv"
   ]
  },
  {
   "cell_type": "markdown",
   "id": "c57da99a-cc04-41cc-a353-42581f15eafc",
   "metadata": {},
   "source": [
    "## Saving cleaned database"
   ]
  },
  {
   "cell_type": "code",
   "execution_count": 78,
   "id": "d3535beb-1516-48ec-a1a2-0eff7d71d510",
   "metadata": {},
   "outputs": [],
   "source": [
    "clothes_csv.to_csv(path_or_buf=\"cleaned_fashion.csv\", sep=';')"
   ]
  }
 ],
 "metadata": {
  "kernelspec": {
   "display_name": "Python 3 (ipykernel)",
   "language": "python",
   "name": "python3"
  },
  "language_info": {
   "codemirror_mode": {
    "name": "ipython",
    "version": 3
   },
   "file_extension": ".py",
   "mimetype": "text/x-python",
   "name": "python",
   "nbconvert_exporter": "python",
   "pygments_lexer": "ipython3",
   "version": "3.11.7"
  }
 },
 "nbformat": 4,
 "nbformat_minor": 5
}
