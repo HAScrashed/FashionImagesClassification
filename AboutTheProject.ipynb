{
 "cells": [
  {
   "cell_type": "markdown",
   "id": "dc9fd67f-3bf1-436f-9e79-db50f7949dc5",
   "metadata": {},
   "source": [
    "# Bartosz Sorek - Fashion images' category classification"
   ]
  },
  {
   "cell_type": "markdown",
   "id": "b690d2c4-6be7-4d95-9989-b940a26b676e",
   "metadata": {},
   "source": [
    "# About the project"
   ]
  },
  {
   "cell_type": "markdown",
   "id": "8c659b49-c1f0-45c3-a0c0-200e4e5ab54f",
   "metadata": {},
   "source": [
    "The goal of the project is creation of scripts capable of image classification. "
   ]
  },
  {
   "cell_type": "markdown",
   "id": "0bdee3c3-139d-4ee4-b241-8f82307bf983",
   "metadata": {},
   "source": [
    "## Problem definition"
   ]
  },
  {
   "cell_type": "markdown",
   "id": "2822c4a4-7ba3-4542-9209-8cf9acc4c4ad",
   "metadata": {},
   "source": [
    "Let's say we have shop or service specialised in selling or reselling clothes. The user either can or must not only provide the image of the fashion item to the system, but also the category it belongs to. By sending first the image, category can be automatically applied (suggested) using Machine Learning or Deep Learning, speeding the proccess and eliminating the need of manually inserting category's name.\n",
    "\n",
    "This can be later modified and used for more complex applications e.g. removing background from the images.\n"
   ]
  },
  {
   "cell_type": "markdown",
   "id": "91d988af-6f4f-40e9-85ad-9539eed6c37f",
   "metadata": {},
   "source": [
    "## Database"
   ]
  },
  {
   "cell_type": "markdown",
   "id": "eeb3d474-2035-4704-bf5f-025a2cf04a07",
   "metadata": {},
   "source": [
    "I'm using database from https://www.kaggle.com/datasets/paramaggarwal/fashion-product-images-small?select=styles.csv\n",
    "\n",
    "This database contains images of clothes named with id corresponing to their description in styles.csv"
   ]
  },
  {
   "cell_type": "markdown",
   "id": "fd5d1a6e-7e2a-4c6a-9295-0ca37496dde5",
   "metadata": {},
   "source": [
    "During data discovery (in DatabaseDiscovery.ipynb) I noticed very irregular target distribution. One of the goals of my project will be observing how well the model can perform with such irregular class distribution. I will test it in two cases: without feature reduction and with feature reduction using PCA. "
   ]
  },
  {
   "cell_type": "markdown",
   "id": "cf40c89a-38bc-4b4c-8c10-c70764aecdb3",
   "metadata": {},
   "source": [
    "## Project files"
   ]
  },
  {
   "cell_type": "markdown",
   "id": "e68a6347-945a-4d2f-8a90-1606d4424c44",
   "metadata": {},
   "source": [
    "- AboutTheProject: this file\n",
    "- DatabaseProcessing: cleaning database from wrong data\n",
    "- ImagesIntersection: connecting relations between file containing only targets and file containing images (they are separated)\n",
    "- DatabaseDiscovery: examining the structure of unprocessed database and processed targets database\n",
    "- ModelTraining: primary file used for model training without feature reduction\n",
    "- TrainingResults: file with test results for models without feature reduction\n",
    "- ModelTrainingPCA: file used for model training with feature reduction with its own summary\n",
    "- ImageLoader: supporting script\n",
    "  "
   ]
  }
 ],
 "metadata": {
  "kernelspec": {
   "display_name": "Python 3 (ipykernel)",
   "language": "python",
   "name": "python3"
  },
  "language_info": {
   "codemirror_mode": {
    "name": "ipython",
    "version": 3
   },
   "file_extension": ".py",
   "mimetype": "text/x-python",
   "name": "python",
   "nbconvert_exporter": "python",
   "pygments_lexer": "ipython3",
   "version": "3.11.7"
  }
 },
 "nbformat": 4,
 "nbformat_minor": 5
}
